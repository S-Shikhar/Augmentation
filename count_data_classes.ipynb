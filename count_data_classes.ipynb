{
 "cells": [
  {
   "cell_type": "code",
   "execution_count": 4,
   "id": "029fa4f3",
   "metadata": {},
   "outputs": [],
   "source": [
    "import pandas as pd\n",
    "\n",
    "# Step 1: Load the dataset\n",
    "df = pd.read_csv(\"random_augmented_balanced_dataset_final.csv\")\n",
    "df2 = pd.read_csv(\"random_augmented_balanced_dataset.csv\")\n",
    "\n",
    "# Step 2: Count instances per intent class\n",
    "class_counts = df['intent'].value_counts()\n",
    "class_counts2 = df2['intent'].value_counts()"
   ]
  },
  {
   "cell_type": "code",
   "execution_count": 5,
   "id": "45f7a1cc",
   "metadata": {},
   "outputs": [
    {
     "name": "stdout",
     "output_type": "stream",
     "text": [
      "\n",
      "Sample counts per class (ascending) for merged dataset:\n",
      "intent\n",
      "symptoms                  1313\n",
      "cause                     1358\n",
      "disease manifestations    1372\n",
      "treatment method          1399\n",
      "ask more                  1418\n",
      "method                    1497\n",
      "treatment                 1505\n",
      "definition                1538\n",
      "usage                     1554\n",
      "applicable disease        1625\n",
      "Name: count, dtype: int64\n",
      "Total records: 14579\n",
      "\n"
     ]
    }
   ],
   "source": [
    "# Step 3: Print the counts in ascending order\n",
    "print(\"\\nSample counts per class (ascending) for merged dataset:\")\n",
    "print(class_counts2.sort_values())\n",
    "print(f\"Total records: {len(df2)}\\n\")\n"
   ]
  },
  {
   "cell_type": "code",
   "execution_count": 6,
   "id": "33bca5a1",
   "metadata": {},
   "outputs": [
    {
     "name": "stdout",
     "output_type": "stream",
     "text": [
      "Sample counts per class (ascending):\n",
      "intent\n",
      "disease manifestations    1352\n",
      "symptoms                  1371\n",
      "applicable disease        1414\n",
      "method                    1425\n",
      "usage                     1440\n",
      "treatment                 1627\n",
      "treatment method          1677\n",
      "ask more                  1677\n",
      "cause                     1679\n",
      "definition                1679\n",
      "Name: count, dtype: int64\n",
      "Total records: 15341\n",
      "\n",
      "\n",
      "\n"
     ]
    }
   ],
   "source": [
    "print(\"Sample counts per class (ascending):\")\n",
    "print(class_counts.sort_values())\n",
    "print(f\"Total records: {len(df)}\\n\\n\\n\")\n"
   ]
  }
 ],
 "metadata": {
  "kernelspec": {
   "display_name": "myenv",
   "language": "python",
   "name": "python3"
  },
  "language_info": {
   "codemirror_mode": {
    "name": "ipython",
    "version": 3
   },
   "file_extension": ".py",
   "mimetype": "text/x-python",
   "name": "python",
   "nbconvert_exporter": "python",
   "pygments_lexer": "ipython3",
   "version": "3.10.11"
  }
 },
 "nbformat": 4,
 "nbformat_minor": 5
}
