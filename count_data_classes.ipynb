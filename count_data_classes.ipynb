{
 "cells": [
  {
   "cell_type": "code",
   "execution_count": 3,
   "id": "029fa4f3",
   "metadata": {},
   "outputs": [],
   "source": [
    "import pandas as pd\n",
    "\n",
    "# Step 1: Load the dataset\n",
    "df = pd.read_csv(\"intent_dataset.csv\")\n",
    "df2 = pd.read_csv(\"augmented_split.csv\")\n",
    "\n",
    "# Step 2: Count instances per intent class\n",
    "class_counts = df['intent'].value_counts()\n",
    "class_counts2 = df2['intent'].value_counts()"
   ]
  },
  {
   "cell_type": "code",
   "execution_count": 4,
   "id": "45f7a1cc",
   "metadata": {},
   "outputs": [
    {
     "name": "stdout",
     "output_type": "stream",
     "text": [
      "\n",
      "Sample counts per class (ascending) for merged dataset:\n",
      "intent\n",
      "symptoms                  195\n",
      "disease manifestations    324\n",
      "treatment                 382\n",
      "cause                     427\n",
      "definition                692\n",
      "method                    732\n",
      "usage                     739\n",
      "ask more                  765\n",
      "treatment method          793\n",
      "applicable disease        926\n",
      "Name: count, dtype: int64\n",
      "Total records: 5975\n",
      "\n"
     ]
    }
   ],
   "source": [
    "# Step 3: Print the counts in ascending order\n",
    "print(\"\\nSample counts per class (ascending) for merged dataset:\")\n",
    "print(class_counts2.sort_values())\n",
    "print(f\"Total records: {len(df2)}\\n\")\n"
   ]
  },
  {
   "cell_type": "code",
   "execution_count": 5,
   "id": "33bca5a1",
   "metadata": {},
   "outputs": [
    {
     "name": "stdout",
     "output_type": "stream",
     "text": [
      "Sample counts per class (ascending):\n",
      "intent\n",
      "ask more                   758\n",
      "treatment method           774\n",
      "applicable disease         783\n",
      "method                     820\n",
      "definition                 848\n",
      "usage                      848\n",
      "cause                      936\n",
      "disease manifestations    1048\n",
      "symptoms                  1116\n",
      "treatment                 1121\n",
      "Name: count, dtype: int64\n",
      "Total records: 9052\n",
      "\n",
      "\n",
      "\n"
     ]
    }
   ],
   "source": [
    "print(\"Sample counts per class (ascending):\")\n",
    "print(class_counts.sort_values())\n",
    "print(f\"Total records: {len(df)}\\n\\n\\n\")\n"
   ]
  }
 ],
 "metadata": {
  "kernelspec": {
   "display_name": "myenv",
   "language": "python",
   "name": "python3"
  },
  "language_info": {
   "codemirror_mode": {
    "name": "ipython",
    "version": 3
   },
   "file_extension": ".py",
   "mimetype": "text/x-python",
   "name": "python",
   "nbconvert_exporter": "python",
   "pygments_lexer": "ipython3",
   "version": "3.10.11"
  }
 },
 "nbformat": 4,
 "nbformat_minor": 5
}
