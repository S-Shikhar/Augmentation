{
 "cells": [
  {
   "cell_type": "code",
   "execution_count": 1,
   "id": "11a82519",
   "metadata": {},
   "outputs": [],
   "source": [
    "import pandas as pd"
   ]
  },
  {
   "cell_type": "code",
   "execution_count": 2,
   "id": "5f2757b4",
   "metadata": {},
   "outputs": [],
   "source": [
    "df_full = pd.read_csv('random_augmented_balanced_dataset.csv')\n",
    "df_orig = pd.read_csv('intent_dataset.csv')\n",
    "\n",
    "# Identify originals based on matching text\n",
    "df_full['source'] = df_full['text'].isin(df_orig['text']).map({True: 'original', False: 'augmented'})\n",
    "\n",
    "# Split\n",
    "df_original = df_full[df_full['source'] == 'original']\n",
    "df_augmented = df_full[df_full['source'] == 'augmented']\n",
    "\n",
    "# Save to CSV files\n",
    "df_original.to_csv('original_split.csv', index=False)\n",
    "df_augmented.to_csv('augmented_split.csv', index=False)\n"
   ]
  }
 ],
 "metadata": {
  "kernelspec": {
   "display_name": "myenv",
   "language": "python",
   "name": "python3"
  },
  "language_info": {
   "codemirror_mode": {
    "name": "ipython",
    "version": 3
   },
   "file_extension": ".py",
   "mimetype": "text/x-python",
   "name": "python",
   "nbconvert_exporter": "python",
   "pygments_lexer": "ipython3",
   "version": "3.10.11"
  }
 },
 "nbformat": 4,
 "nbformat_minor": 5
}
